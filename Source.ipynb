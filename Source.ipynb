{
 "cells": [
  {
   "cell_type": "code",
   "execution_count": 41,
   "metadata": {},
   "outputs": [],
   "source": [
    "import numpy as np\n",
    "import cv2\n",
    "import imageio\n",
    "from PIL import Image\n",
    "import matplotlib.pyplot as plt\n",
    "import time\n",
    "import math\n",
    "import glob\n",
    "import matplotlib.colors as colors\n",
    "from skimage import color, io, exposure\n",
    "from scipy.ndimage import morphology as morph\n",
    "from skimage.morphology import disk\n",
    "from skimage.transform import resize\n",
    "from skimage import filters\n",
    "#%matplotlib inline"
   ]
  },
  {
   "cell_type": "code",
   "execution_count": 51,
   "metadata": {},
   "outputs": [],
   "source": [
    "def calcErrorSurface(panorama, curr_img, overlap, channel):\n",
    "    A = panorama[:, -overlap-1:, channel]\n",
    "    B = curr_img[:, 0:overlap+1, channel]\n",
    "    return np.square(A-B)\n",
    "\n",
    "def calcSeam(e):\n",
    "    E = np.zeros(e.shape);\n",
    "    E[0, :] = e[0, :];\n",
    "    for h in range(1, e.shape[0]):\n",
    "        for w in range(0, e.shape[1]):\n",
    "            if w == 0:\n",
    "                cost = min(E[h-1, w], E[h-1, w+1]);\n",
    "            elif w == e.shape[1]-1:\n",
    "                cost = min(E[h-1, w-1], E[h-1, w]);\n",
    "            else:\n",
    "                cost = min(E[h-1, w-1], E[h-1, w], E[h-1, w+1]);\n",
    "            E[h, w] = e[h, w] + cost;\n",
    "    return E\n",
    "\n",
    "def calcSeamPath(E, e):\n",
    "    h = e.shape[0];\n",
    "    path = np.zeros((h, 1));\n",
    "    idx = np.argmin(E[h-1, :]);\n",
    "    path[h-1] = idx;\n",
    "    for h in range(e.shape[0]-2,-1,-1):\n",
    "        w = int(path[h+1][0]);\n",
    "        if w > 0 and E[h, w-1] == E[h+1, w]-e[h+1, w]:\n",
    "            path[h] = w-1;\n",
    "        elif w < e.shape[1] - 1 and E[h, w+1] == E[h+1, w]-e[h+1, w]:\n",
    "            path[h] = w+1;\n",
    "        else:\n",
    "            path[h] = w;\n",
    "\n",
    "    path[path==0] = 1\n",
    "    return path\n",
    "    \n",
    "def stitchImage(panorama, curr_img, path, overlap):\n",
    "    n = 1\n",
    "    bound_threshold = 0;\n",
    "    \n",
    "    tmp = np.zeros((0,panorama.shape[1] + curr_img.shape[1] - overlap,3)).astype('float64');\n",
    "    for h in range(0, panorama.shape[0]):\n",
    "        A = np.expand_dims(panorama[h, 0:-(overlap-int(path[h][0])+1), :], axis=0);\n",
    "        B = np.expand_dims(curr_img[h, int(path[h][0])-1:, :], axis = 0);\n",
    "        ZA = np.concatenate((np.expand_dims(panorama[h,:,:],axis=0), np.zeros((A.shape[0],panorama.shape[1] + curr_img.shape[1] - overlap-np.expand_dims(panorama[h,:,:],axis=0).shape[1],3))), axis=1);\n",
    "        ZB = np.concatenate((np.expand_dims(panorama[h,0:panorama.shape[1] + curr_img.shape[1] - overlap-np.expand_dims(curr_img[h,:,:],axis=0).shape[1],:], axis=0), np.expand_dims(curr_img[h,:,:],axis=0)), axis=1);\n",
    "        filt_A = np.ones((1, A.shape[1]-bound_threshold));\n",
    "        grad = np.expand_dims(np.linspace(1, 0, 2*bound_threshold+1, endpoint=True), axis = 0);\n",
    "        filt_B = np.zeros((1, B.shape[1]-bound_threshold));\n",
    "        blender = np.concatenate((filt_A, grad, filt_B), axis=1);\n",
    "        Z = (blender[:, 0:ZA.shape[1]].T*ZA.T).T + ((1-blender[:, 0:ZB.shape[1]]).T*ZB.T).T;\n",
    "        tmp = np.concatenate((tmp,Z));\n",
    "    return tmp\n",
    "\n",
    "def colorCorrection(images_temp, shift, bestIndex, gamma=2.2):\n",
    "    alpha = np.ones((3, len(images_temp)));\n",
    "    for rightBorder in range(bestIndex+1, len(images_temp)):\n",
    "        for i in range(bestIndex+1, rightBorder+1):\n",
    "            I = images_temp[i];\n",
    "            J = images_temp[i-1];\n",
    "            overlap = I.shape[1] - shift[i-1];\n",
    "            for channel in range(3):\n",
    "                alpha[channel, i] = np.sum(np.power(J[:,-overlap-1:,channel], gamma))/np.sum(np.power(I[:,0:overlap+1,channel],gamma));\n",
    "\n",
    "        G = np.sum(alpha, 1)/np.sum(np.square(alpha), 1);\n",
    "        \n",
    "        for i in range(bestIndex+1, rightBorder+1):\n",
    "            for channel in range(3):\n",
    "                images_temp[i][:,:,channel] = np.power(G[channel] * alpha[channel, i], 1.0/gamma) * images_temp[i][:,:,channel];\n",
    "                \n",
    "    for leftBorder in range(bestIndex-1, -1, -1):\n",
    "        for i in range(bestIndex-1, leftBorder-1, -1):\n",
    "            I = images_temp[i];\n",
    "            J = images_temp[i+1];\n",
    "            overlap = I.shape[1] - shift[i-1];\n",
    "            for channel in range(3):\n",
    "                alpha[channel, i] = np.sum(np.power(J[:,0:overlap+1,channel], gamma))/np.sum(np.power(I[:,-overlap-1:,channel],gamma));\n",
    "\n",
    "        G = np.sum(alpha, 1)/np.sum(np.square(alpha), 1);\n",
    "        \n",
    "        for i in range(bestIndex-1, leftBorder-1, -1):\n",
    "            for channel in range(3):\n",
    "                images_temp[i][:,:,channel] = np.power(G[channel] * alpha[channel, i], 1.0/gamma) * images_temp[i][:,:,channel];\n",
    "    return images_temp\n",
    "\n",
    "def getBestIndex(images_temp):\n",
    "    idx = 0\n",
    "    bestVar = 255**5\n",
    "    for i in range(len(images_temp)):\n",
    "        curMeans = np.array([np.mean(images_temp[i][:,:,0]),np.mean(images_temp[i][:,:,1]),np.mean(images_temp[i][:,:,2])]);\n",
    "#         if -np.var(images_temp[i].flatten()) < bestVar:\n",
    "        if np.max(curMeans) - np.min(curMeans) < bestVar:\n",
    "            idx = i\n",
    "            bestVar = np.max(curMeans) - np.min(curMeans)\n",
    "#             bestVar = -np.var(images_temp[i].flatten())\n",
    "    return idx\n",
    "\n",
    "def calcPanorama(images_dir, shift):\n",
    "    start = time.time()\n",
    "    # read panorama source images\n",
    "    files = glob.glob(images_dir + 'in-*.*g');\n",
    "    files = sorted(files)\n",
    "    print(len(files))\n",
    "    \n",
    "    image_files = [np.array(Image.open(files[i])) for i in range(len(files))];\n",
    "    \n",
    "    images_temp = [ image_files[i].astype('float64') for i in range(len(image_files))];\n",
    "    \n",
    "    if image_files[0].ndim == 2 or image_files[0].shape[2] == 1:\n",
    "        images_temp = [ cv2.resize(cv2.cvtColor(image_files[i], cv2.COLOR_GRAY2RGB), (200, 300)).astype('float64') for i in range(len(image_files))];\n",
    "    \n",
    "    bestIndex = getBestIndex(images_temp);\n",
    "    \n",
    "    print(\"The image chosen as the base image for color is the image with index \" + str(bestIndex)+'.')\n",
    "    \n",
    "    images_temp = colorCorrection(images_temp, shift, bestIndex);\n",
    "    panorama = images_temp[0];\n",
    "    for i in range(1, len(images_temp)):\n",
    "        curr_img = images_temp[i];\n",
    "        \n",
    "        channel = np.argmax([np.var(curr_img[:,:,0]), np.var(curr_img[:,:,1]), np.var(curr_img[:,:,2])]);\n",
    "        \n",
    "        overlap = curr_img.shape[1] - shift[i-1];\n",
    "        e = calcErrorSurface(panorama, curr_img, overlap, channel);\n",
    "        E = calcSeam(e)\n",
    "        path = calcSeamPath(E,e)\n",
    "        panorama = stitchImage(panorama, curr_img, path, overlap)\n",
    "        print(\"The time taken for merging \" + str(i+1) + \" images: \" + str(time.time() - start))\n",
    "#     fig = plt.figure(figsize=(20,10))\n",
    "#     plt.axis('off')\n",
    "#     plt.imshow(panorama/np.max(panorama));\n",
    "    print(\"The image has been saved as output.png\")\n",
    "    imageio.imwrite(images_dir+'out-without-blending.png', np.array(255*panorama/np.max(panorama)).astype('uint8'));\n",
    "    return panorama"
   ]
  },
  {
   "cell_type": "code",
   "execution_count": 46,
   "metadata": {
    "scrolled": false
   },
   "outputs": [
    {
     "name": "stdout",
     "output_type": "stream",
     "text": [
      "12\n",
      "The image chosen as the base image for color is the image with index 3.\n",
      "The time taken for merging 2 images: 0.249556303024292\n",
      "The time taken for merging 3 images: 0.27207112312316895\n",
      "The time taken for merging 4 images: 0.2944986820220947\n",
      "The time taken for merging 5 images: 0.3166084289550781\n",
      "The time taken for merging 6 images: 0.33945488929748535\n",
      "The time taken for merging 7 images: 0.363689661026001\n",
      "The time taken for merging 8 images: 0.3874483108520508\n",
      "The time taken for merging 9 images: 0.4131183624267578\n",
      "The time taken for merging 10 images: 0.43715977668762207\n",
      "The time taken for merging 11 images: 0.4684286117553711\n",
      "The time taken for merging 12 images: 0.4997379779815674\n",
      "The image has been saved as output.png\n"
     ]
    }
   ],
   "source": [
    "calcPanorama('./results/3/', [55]*11);"
   ]
  },
  {
   "cell_type": "code",
   "execution_count": 50,
   "metadata": {},
   "outputs": [
    {
     "name": "stdout",
     "output_type": "stream",
     "text": [
      "7\n",
      "The image chosen as the base image for color is the image with index 4.\n",
      "The time taken for merging 2 images: 0.27054619789123535\n",
      "The time taken for merging 3 images: 0.3416926860809326\n",
      "The time taken for merging 4 images: 0.4201540946960449\n",
      "The time taken for merging 5 images: 0.5262060165405273\n",
      "The time taken for merging 6 images: 0.6308603286743164\n",
      "The time taken for merging 7 images: 0.7468738555908203\n",
      "The image has been saved as output.png\n"
     ]
    }
   ],
   "source": [
    "calcPanorama('./results/2/', [109]*6);"
   ]
  },
  {
   "cell_type": "code",
   "execution_count": 36,
   "metadata": {},
   "outputs": [
    {
     "name": "stdout",
     "output_type": "stream",
     "text": [
      "17\n",
      "The image chosen as the base image for color is the image with index 15.\n",
      "The time taken for merging 2 images: 0.3027665615081787\n",
      "The time taken for merging 3 images: 0.3164486885070801\n",
      "The time taken for merging 4 images: 0.3300154209136963\n",
      "The time taken for merging 5 images: 0.3435695171356201\n",
      "The time taken for merging 6 images: 0.35715198516845703\n",
      "The time taken for merging 7 images: 0.37082886695861816\n",
      "The time taken for merging 8 images: 0.3846144676208496\n",
      "The time taken for merging 9 images: 0.39876866340637207\n",
      "The time taken for merging 10 images: 0.41314148902893066\n",
      "The time taken for merging 11 images: 0.42789125442504883\n",
      "The time taken for merging 12 images: 0.44233036041259766\n",
      "The time taken for merging 13 images: 0.45704126358032227\n",
      "The time taken for merging 14 images: 0.4721052646636963\n",
      "The time taken for merging 15 images: 0.48723697662353516\n",
      "The time taken for merging 16 images: 0.5172739028930664\n",
      "The time taken for merging 17 images: 0.5646839141845703\n",
      "The image has been saved as output.png\n"
     ]
    }
   ],
   "source": [
    "calcPanorama('./results/1/', [36]*16);"
   ]
  },
  {
   "cell_type": "code",
   "execution_count": 37,
   "metadata": {},
   "outputs": [
    {
     "name": "stdout",
     "output_type": "stream",
     "text": [
      "6\n",
      "The image chosen as the base image for color is the image with index 0.\n",
      "The time taken for merging 2 images: 0.2776486873626709\n",
      "The time taken for merging 3 images: 0.34472203254699707\n",
      "The time taken for merging 4 images: 0.4228026866912842\n",
      "The time taken for merging 5 images: 0.5142402648925781\n",
      "The time taken for merging 6 images: 0.6227729320526123\n",
      "The image has been saved as output.png\n"
     ]
    }
   ],
   "source": [
    "calcPanorama('./results/4/', [85]*5);"
   ]
  }
 ],
 "metadata": {
  "kernelspec": {
   "display_name": "Python 3",
   "language": "python",
   "name": "python3"
  }
 },
 "nbformat": 4,
 "nbformat_minor": 2
}
