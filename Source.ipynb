{
 "cells": [
  {
   "cell_type": "code",
   "execution_count": null,
   "metadata": {},
   "outputs": [],
   "source": [
    "import numpy as np\n",
    "import cv2\n",
    "import imageio\n",
    "from PIL import Image\n",
    "import matplotlib.pyplot as plt\n",
    "import time\n",
    "import math\n",
    "import glob\n",
    "import matplotlib.colors as colors\n",
    "from skimage import color, io, exposure\n",
    "from scipy.ndimage import morphology as morph\n",
    "from skimage.morphology import disk\n",
    "from skimage.transform import resize\n",
    "from skimage import filters\n",
    "#%matplotlib inline"
   ]
  },
  {
   "cell_type": "code",
   "execution_count": null,
   "metadata": {},
   "outputs": [],
   "source": [
    "def calcErrorSurface(panorama, curr_img, overlap, channel):\n",
    "    A = panorama[:, -overlap-1:, channel]\n",
    "    B = curr_img[:, 0:overlap+1, channel]\n",
    "    return np.square(A-B)\n",
    "\n",
    "def calcSeam(e):\n",
    "    E = np.zeros(e.shape);\n",
    "    E[0, :] = e[0, :];\n",
    "    for h in range(1, e.shape[0]):\n",
    "        for w in range(0, e.shape[1]):\n",
    "            if w == 0:\n",
    "                cost = min(E[h-1, w], E[h-1, w+1]);\n",
    "            elif w == e.shape[1]-1:\n",
    "                cost = min(E[h-1, w-1], E[h-1, w]);\n",
    "            else:\n",
    "                cost = min(E[h-1, w-1], E[h-1, w], E[h-1, w+1]);\n",
    "            E[h, w] = e[h, w] + cost;\n",
    "    return E\n",
    "\n",
    "def calcPanorama(images_dir, shift):\n",
    "    start = time.time()\n",
    "    # read panorama source images\n",
    "    files = glob.glob(images_dir + 'in-*.*g');\n",
    "    files = sorted(files)\n",
    "    print(len(files))\n",
    "    \n",
    "    image_files = [np.array(Image.open(files[i])) for i in range(len(files))];\n",
    "    \n",
    "    images_temp = [ image_files[i].astype('float64') for i in range(len(image_files))];\n",
    "    \n",
    "    if image_files[0].ndim == 2 or image_files[0].shape[2] == 1:\n",
    "        images_temp = [ cv2.resize(cv2.cvtColor(image_files[i], cv2.COLOR_GRAY2RGB), (200, 300)).astype('float64') for i in range(len(image_files))];\n",
    "    \n",
    "    panorama = images_temp[0];\n",
    "    for i in range(1, len(images_temp)):\n",
    "        curr_img = images_temp[i];\n",
    "        \n",
    "        channel = np.argmax([np.var(curr_img[:,:,0]), np.var(curr_img[:,:,1]), np.var(curr_img[:,:,2])]);\n",
    "        \n",
    "        overlap = curr_img.shape[1] - shift[i-1];\n",
    "        e = calcErrorSurface(panorama, curr_img, overlap, channel);\n",
    "        print(e)"
   ]
  },
  {
   "cell_type": "code",
   "execution_count": null,
   "metadata": {},
   "outputs": [],
   "source": [
    "calcPanorama('/home/additya/Downloads/images/images/3/', [55]*11);"
   ]
  }
 ],
 "metadata": {
  "kernelspec": {
   "display_name": "Python 3",
   "language": "python",
   "name": "python3"
  },
  "language_info": {
   "codemirror_mode": {
    "name": "ipython",
    "version": 3
   },
   "file_extension": ".py",
   "mimetype": "text/x-python",
   "name": "python",
   "nbconvert_exporter": "python",
   "pygments_lexer": "ipython3",
   "version": "3.6.5"
  }
 },
 "nbformat": 4,
 "nbformat_minor": 2
}
